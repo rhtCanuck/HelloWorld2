{
 "cells": [
  {
   "cell_type": "markdown",
   "metadata": {},
   "source": [
    "hello world"
   ]
  },
  {
   "cell_type": "markdown",
   "metadata": {},
   "source": [
    "above this is a markdown field"
   ]
  },
  {
   "cell_type": "code",
   "execution_count": 7,
   "metadata": {},
   "outputs": [],
   "source": [
    "a = 5\n",
    "b =6\n"
   ]
  },
  {
   "cell_type": "code",
   "execution_count": 8,
   "metadata": {},
   "outputs": [
    {
     "data": {
      "text/plain": [
       "11"
      ]
     },
     "execution_count": 8,
     "metadata": {},
     "output_type": "execute_result"
    }
   ],
   "source": [
    "a + b\n"
   ]
  },
  {
   "cell_type": "code",
   "execution_count": 9,
   "metadata": {},
   "outputs": [
    {
     "name": "stdout",
     "output_type": "stream",
     "text": [
      "Hiya\n"
     ]
    }
   ],
   "source": [
    "print(\"Hiya\")"
   ]
  },
  {
   "cell_type": "markdown",
   "metadata": {},
   "source": [
    "below is a simple python code fragment that uses a local csv file and executes without any changes....not sure what happens when i move it to github or azure."
   ]
  },
  {
   "cell_type": "code",
   "execution_count": 10,
   "metadata": {},
   "outputs": [
    {
     "name": "stdout",
     "output_type": "stream",
     "text": [
      "10:48:11 PM, Mar 02, 2018 Start of Run\n",
      "   row_id                                         area__rucc  \\\n",
      "0       0  Nonmetro - Completely rural or less than 2,500...   \n",
      "1       2  Nonmetro - Urban population of 2,500 to 19,999...   \n",
      "2       4  Nonmetro - Completely rural or less than 2,500...   \n",
      "3       5  Nonmetro - Urban population of 2,500 to 19,999...   \n",
      "4       8  Metro - Counties in metro areas of 1 million p...   \n",
      "\n",
      "                               area__urban_influence  \\\n",
      "0             Noncore adjacent to a large metro area   \n",
      "1        Micropolitan adjacent to a large metro area   \n",
      "2  Noncore adjacent to micro area and contains a ...   \n",
      "3  Noncore adjacent to micro area and contains a ...   \n",
      "4  Large-in a metro area with at least 1 million ...   \n",
      "\n",
      "              econ__economic_typology  econ__pct_civilian_labor  \\\n",
      "0  Federal/State government-dependent                     0.358   \n",
      "1             Manufacturing-dependent                     0.503   \n",
      "2  Federal/State government-dependent                     0.471   \n",
      "3  Federal/State government-dependent                     0.578   \n",
      "4                      Nonspecialized                     0.530   \n",
      "\n",
      "   econ__pct_unemployment  econ__pct_uninsured_adults  \\\n",
      "0                   0.089                       0.253   \n",
      "1                   0.057                       0.171   \n",
      "2                   0.070                       0.297   \n",
      "3                   0.049                       0.231   \n",
      "4                   0.046                       0.262   \n",
      "\n",
      "   econ__pct_uninsured_children  demo__pct_female  \\\n",
      "0                         0.099             0.494   \n",
      "1                         0.065             0.503   \n",
      "2                         0.122             0.497   \n",
      "3                         0.107             0.474   \n",
      "4                         0.067             0.513   \n",
      "\n",
      "   demo__pct_below_18_years_of_age ...  health__pct_diabetes  \\\n",
      "0                            0.200 ...                 0.159   \n",
      "1                            0.243 ...                 0.123   \n",
      "2                            0.250 ...                 0.092   \n",
      "3                            0.194 ...                 0.084   \n",
      "4                            0.206 ...                 0.080   \n",
      "\n",
      "   health__pct_low_birthweight  health__pct_excessive_drinking  \\\n",
      "0                        0.154                             NaN   \n",
      "1                        0.080                           0.177   \n",
      "2                        0.079                             NaN   \n",
      "3                        0.100                           0.174   \n",
      "4                        0.086                           0.178   \n",
      "\n",
      "   health__pct_physical_inacticity  health__air_pollution_particulate_matter  \\\n",
      "0                            0.317                                      12.0   \n",
      "1                            0.350                                      14.0   \n",
      "2                            0.259                                      10.0   \n",
      "3                            0.249                                      11.0   \n",
      "4                            0.253                                      11.0   \n",
      "\n",
      "   health__homicides_per_100k  health__motor_vehicle_crash_deaths_per_100k  \\\n",
      "0                        9.33                                        33.75   \n",
      "1                        2.10                                        23.81   \n",
      "2                         NaN                                          NaN   \n",
      "3                         NaN                                        23.11   \n",
      "4                        3.40                                         3.68   \n",
      "\n",
      "   health__pop_per_dentist  health__pop_per_primary_care_physician  yr  \n",
      "0                   5429.0                                  6949.0   b  \n",
      "1                   3060.0                                  1749.0   b  \n",
      "2                    690.0                                     NaN   b  \n",
      "3                   1430.0                                  1160.0   b  \n",
      "4                   1700.0                                  1870.0   a  \n",
      "\n",
      "[5 rows x 34 columns]\n"
     ]
    }
   ],
   "source": [
    "import pandas as pd\n",
    "#import matplotlib\n",
    "import matplotlib.pyplot as plt\n",
    "import datetime\n",
    "import numpy as np\n",
    "#just for runtime clarification\n",
    "td = datetime.datetime.today()\n",
    "print (td.strftime(\"%I:%M:%S %p, %b %d, %Y Start of Run\"))\n",
    "\n",
    "dfLabs = pd.read_csv('C:\\\\Users\\\\RHT\\\\Downloads\\\\edx\\\\project2018\\\\train_labels2018.csv')\n",
    "dfValues = pd.read_csv('C:\\\\Users\\\\RHT\\\\Downloads\\\\edx\\\\project2018\\\\train_values2018.csv')\n",
    "\n",
    "#df\n",
    "\n",
    "\n",
    "\n",
    "\n",
    "#print(dfLabs.dtypes)\n",
    "#print(dfValues.dtypes)\n",
    "\n",
    "print(dfValues.head(5))\n",
    "\n",
    "#merging dataframes\n",
    "dfAll = pd.merge(dfLabs, dfValues, on='row_id', how='outer')\n",
    "\n",
    "#print(dfAll.head(5))\n",
    "#print (dfAll.dtypes)\n",
    "\n",
    "dfAllNums = dfAll.select_dtypes(include=['float64'])\n",
    "#print (dfAllNums.dtypes)\n",
    "#print(dfAll['poverty_rate'].mean())\n",
    "#print(dfAll['poverty_rate'].median())\n",
    "#print(dfAll.loc[:, 'poverty_rate'].std())\n",
    "#print(dfAll.loc[:, 'poverty_rate'].std())\n",
    "#print(dfAll.head(5))\n",
    "#print(dfAll.std(axis=1))\n",
    "\n",
    "\n",
    "#t(np.std(prices, axis=0))\n",
    "\n",
    "\n",
    "\n"
   ]
  },
  {
   "cell_type": "code",
   "execution_count": null,
   "metadata": {},
   "outputs": [],
   "source": []
  }
 ],
 "metadata": {
  "kernelspec": {
   "display_name": "Python 3",
   "language": "python",
   "name": "python3"
  },
  "language_info": {
   "codemirror_mode": {
    "name": "ipython",
    "version": 3
   },
   "file_extension": ".py",
   "mimetype": "text/x-python",
   "name": "python",
   "nbconvert_exporter": "python",
   "pygments_lexer": "ipython3",
   "version": "3.6.4"
  }
 },
 "nbformat": 4,
 "nbformat_minor": 2
}
